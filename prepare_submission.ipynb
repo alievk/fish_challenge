{
 "cells": [
  {
   "cell_type": "code",
   "execution_count": 1,
   "metadata": {},
   "outputs": [],
   "source": [
    "import pandas as pd\n",
    "import os, sys\n",
    "import numpy as np\n",
    "import matplotlib.pyplot as plt\n",
    "%matplotlib inline\n",
    "from copy import deepcopy\n",
    "\n",
    "pjoin = os.path.join"
   ]
  },
  {
   "cell_type": "code",
   "execution_count": 20,
   "metadata": {},
   "outputs": [],
   "source": [
    "def resoftmax(a):\n",
    "    a = np.log(a + 1e-9)\n",
    "    a -= np.max(a, axis=1, keepdims=True)\n",
    "    exp_ = np.exp(a)\n",
    "    sum_ = np.sum(exp_, axis=1, keepdims=True)\n",
    "    return exp_ / sum_\n",
    "\n",
    "def gauss2(cx, cy, cxm, cym, cxd, cyd):\n",
    "    cxd = max(1, cxd)\n",
    "    cyd = max(1, cyd)\n",
    "    x_ = ((cx-cxm)/cxd)**2\n",
    "    y_ = ((cy-cym)/cyd)**2\n",
    "    return np.exp(-0.5*(x_ + y_)) / (2.*np.pi*cxd*cyd)\n",
    "\n",
    "def penalize_dist(cls_prob, cx, cy, cxm, cym, rm):\n",
    "    k = 2.\n",
    "    d = np.sqrt((cx-cxm)**2 + (cy-cym)**2)\n",
    "    return cls_prob * (d < k*rm)[:,None]\n",
    "# def penalize_dist(cls_prob, cx, cy, cxm, cym, cxd, cyd, rm):\n",
    "#     k = .5\n",
    "#     cxd = max(1, cxd)\n",
    "#     cyd = max(1, cyd)\n",
    "#     r = ((cx-cxm)/cxd)**2 + ((cy-cym)/cyd)**2\n",
    "#     return cls_prob * np.exp(-k*cls_prob*r[:,None])"
   ]
  },
  {
   "cell_type": "code",
   "execution_count": 3,
   "metadata": {},
   "outputs": [],
   "source": [
    "run = '27-10-2017-1148'\n",
    "res_dir = pjoin('train_logs', run, 'results')\n",
    "\n",
    "fish_number_method = 'prob'\n",
    "if fish_number_method == 'prob':\n",
    "    fish_rate_dist = np.load('data/fish_rate_distribution.npy')[:200]\n",
    "    \n",
    "fish_number_col = 3"
   ]
  },
  {
   "cell_type": "raw",
   "metadata": {},
   "source": [
    "# write number of frames in the test videos\n",
    "samp = pd.read_csv('data/submission_format_zeros.csv')\n",
    "print samp.shape\n",
    "video_frame_count = samp.video_id.value_counts().to_frame(name='frames')\n",
    "video_frame_count.to_csv('data/test_video_frame_count.csv', index_label='video_id')"
   ]
  },
  {
   "cell_type": "code",
   "execution_count": 4,
   "metadata": {},
   "outputs": [],
   "source": [
    "frame_count_df = pd.read_csv('data/test_video_frame_count.csv')\n",
    "assert frame_count_df.frames.sum() == 918504\n",
    "frame_count = dict(zip(frame_count_df.video_id, frame_count_df.frames))\n",
    "test_video_ids = frame_count.keys()"
   ]
  },
  {
   "cell_type": "code",
   "execution_count": 5,
   "metadata": {},
   "outputs": [],
   "source": [
    "pred_df_map_o = {}\n",
    "for fn in os.listdir(res_dir):\n",
    "    if not 'test_videos_' in fn:\n",
    "        print 'ignoring ', fn\n",
    "        continue\n",
    "    video_id = os.path.splitext(fn)[0].split('test_videos_')[-1]\n",
    "    pred_df_map_o[video_id] = pd.read_csv(os.path.join(res_dir, fn))\n",
    "    \n",
    "assert set(pred_df_map_o.keys()) == set(test_video_ids)"
   ]
  },
  {
   "cell_type": "code",
   "execution_count": 22,
   "metadata": {},
   "outputs": [
    {
     "name": "stdout",
     "output_type": "stream",
     "text": [
      "fixing P3QkoeOjxoM6pDKb rows: 87 vs 259\n",
      "(259, 14)\n",
      "fixing pGd0FSJQcDH5DI8x rows: 875 vs 876\n",
      "(876, 14)\n",
      "fixing bc6hkwua3iLReunk rows: 1576 vs 1577\n",
      "(1577, 14)\n",
      "fixing LU2DSX6VZcIsiyaW rows: 1285 vs 1286\n",
      "(1286, 14)\n",
      "fixing Sw0AgnH8BY1BDGHu rows: 555 vs 556\n",
      "(556, 14)\n",
      "fixing 8jkQWJWPCtIvcnmH rows: 1129 vs 1130\n",
      "(1130, 14)\n",
      "fixing tJinkrdMMZ477RGi rows: 429 vs 426\n",
      "(426, 14)\n",
      "fixing ZU6XtvFk0UMrHLEL rows: 2266 vs 2267\n",
      "(2267, 14)\n"
     ]
    }
   ],
   "source": [
    "# Fix predictions\n",
    "\n",
    "pred_df_map = deepcopy(pred_df_map_o)\n",
    "\n",
    "num_fish_map = {} # for debug\n",
    "next_fish_frames_list = [] # for debug\n",
    "fish1_frames_list = [] # for debug\n",
    "\n",
    "#for video_id in ['Aa831si72EQnAfA9']:\n",
    "for video_id in test_video_ids:\n",
    "    # fix number of frames in predictions\n",
    "    fc = frame_count[video_id]\n",
    "    pred_rows = pred_df_map[video_id].shape[0]\n",
    "    if pred_rows < fc:\n",
    "        print 'fixing {} rows: {} vs {}'.format(video_id, pred_rows, fc)\n",
    "        new_frames = range(fc)\n",
    "        pred_df_map[video_id] = pred_df_map[video_id].reindex(index=new_frames, fill_value=0)\n",
    "        print pred_df_map[video_id].shape\n",
    "        pred_df_map[video_id].frame = new_frames\n",
    "        pred_df_map[video_id].video_id = [video_id] * fc\n",
    "    elif pred_rows > fc:\n",
    "        print 'fixing {} rows: {} vs {}'.format(video_id, pred_rows, fc)\n",
    "        pred_df_map[video_id] = pred_df_map[video_id].reindex(index=range(fc))\n",
    "        print pred_df_map[video_id].shape\n",
    "        \n",
    "    cls_prob = pred_df_map[video_id].iloc[:,-7:].values\n",
    "    \n",
    "    # detect ruler position and rank detections accorting to their proximity\n",
    "    max_prob = cls_prob.max(axis=1)\n",
    "    hprob_mask = max_prob > 0.7\n",
    "    if not np.any(hprob_mask):\n",
    "        hprob_mask = max_prob > 0.3\n",
    "    hcx = pred_df_map[video_id].iloc[hprob_mask, 5].values\n",
    "    hcy = pred_df_map[video_id].iloc[hprob_mask, 6].values\n",
    "    xb, xe = np.histogram(hcx, bins=1280/32, range=[0, 1280])\n",
    "    yb, ye = np.histogram(hcy, bins=720/32, range=[0, 1280])\n",
    "    #print xe[xb.argmax()]\n",
    "    #print ye[yb.argmax()]\n",
    "    #print yb\n",
    "    hr = 0.5 * pred_df_map[video_id].iloc[hprob_mask, 4].values\n",
    "    #cxm, cxd = hcx.mean(), hcx.std()\n",
    "    #cym, cyd = hcy.mean(), hcy.std()\n",
    "    cxm = xe[xb.argmax()]\n",
    "    cym = ye[yb.argmax()]\n",
    "    rm = hr.mean()\n",
    "    cx = pred_df_map[video_id].iloc[:, 5].values\n",
    "    cy = pred_df_map[video_id].iloc[:, 6].values\n",
    "    #dist_prob = gauss2(cx, cy, cxm, cym, cxd, cyd)\n",
    "    cls_prob = penalize_dist(cls_prob, cx, cy, cxm, cym, rm)\n",
    "    #print cxm, cxd\n",
    "    #print cym, cyd\n",
    "    #print rm\n",
    "    \n",
    "    # Threshold low probabilities\n",
    "    max_prob = cls_prob.max(axis=1)\n",
    "    lprob_thr = 0.3\n",
    "    lprob_mask = max_prob < lprob_thr\n",
    "    cls_prob[lprob_mask, :] = 0.\n",
    "    # re-softmax probabilites (they don't sum up to 1)\n",
    "    cls_prob[~lprob_mask] = resoftmax(cls_prob[~lprob_mask])\n",
    "    \n",
    "    pred_df_map[video_id].iloc[:, -7:] = cls_prob\n",
    "    fin_max_prob = cls_prob.max(axis=1)\n",
    "        \n",
    "    if fish_number_method == 'synth':\n",
    "        # fill fish sequence\n",
    "        fish_rate = 21\n",
    "        num_fish = int(fc/fish_rate) + int(fc%fish_rate)\n",
    "        fish_sequence = np.repeat(np.arange(1, num_fish+1), fish_rate)[:fc]\n",
    "        pred_df_map[video_id].fish_number = fish_sequence.astype(np.float64)\n",
    "        num_fish_map[video_id]=num_fish\n",
    "    else:\n",
    "        # find the first fish frame\n",
    "        # skip leading zero detections\n",
    "        for lz in range(len(lprob_mask)):\n",
    "            if not lprob_mask[lz]:\n",
    "                break\n",
    "        if lz == len(lprob_mask) - 1:\n",
    "            pred_df_map[video_id].iloc[:,fish_number_col] = 1.\n",
    "            continue\n",
    "        # skip first detections\n",
    "        for ld in range(lz, len(lprob_mask)):\n",
    "            if lprob_mask[ld]:\n",
    "                break\n",
    "        if ld == len(lprob_mask) - 1:\n",
    "            pred_df_map[video_id].iloc[:,fish_number_col] = 1.\n",
    "            continue\n",
    "        \n",
    "        fish1_frame = fin_max_prob[:ld].argmax()\n",
    "        fish1_frames_list.append(fish1_frame)\n",
    "        # count the rest\n",
    "        key_frames = [fish1_frame]\n",
    "        while True:\n",
    "            fr = key_frames[-1]\n",
    "            if fr == fc-1:\n",
    "                break\n",
    "            to = min(fc-1, fr + len(fish_rate_dist))\n",
    "            #print fr,to\n",
    "            #print fin_max_prob[fr:to]\n",
    "            next_step = (fin_max_prob[fr:to] * fish_rate_dist[:to-fr]).argmax()\n",
    "            if next_step == 0:\n",
    "                if to == fc-1:\n",
    "                    break\n",
    "                for lz in range(to, fc):\n",
    "                    if fin_max_prob[lz] > 0:\n",
    "                        break\n",
    "                if lz == fc - 1:\n",
    "                    break\n",
    "                next_step = lz - fr\n",
    "            #print next_step, fin_max_prob[fr+next_step]\n",
    "            next_fish_frame = fr + next_step\n",
    "            next_fish_frames_list.append(next_step)\n",
    "            key_frames.append(next_fish_frame)\n",
    "#         print key_frames\n",
    "\n",
    "        pred_df_map[video_id].iloc[:key_frames[0],fish_number_col] = 1\n",
    "        pred_df_map[video_id].iloc[key_frames[-1]:,fish_number_col] = len(key_frames)\n",
    "        for i in range(len(key_frames)-1):\n",
    "            pred_df_map[video_id].iloc[key_frames[i]:key_frames[i+1],fish_number_col] = i + 1\n",
    "            \n",
    "        assert pred_df_map[video_id].iloc[:,fish_number_col].isnull().sum() == 0\n",
    "        assert pred_df_map[video_id].iloc[-1,fish_number_col] == len(key_frames), video_id\n",
    "        \n",
    "        num_fish_map[video_id]=len(key_frames)\n",
    "    \n",
    "        \n",
    "pred_df = pd.concat(pred_df_map.values(), ignore_index=True)\n",
    "assert pred_df.shape[0] == 918504"
   ]
  },
  {
   "cell_type": "code",
   "execution_count": 23,
   "metadata": {},
   "outputs": [
    {
     "data": {
      "text/plain": [
       "<matplotlib.axes._subplots.AxesSubplot at 0x7f8255eb7650>"
      ]
     },
     "execution_count": 23,
     "metadata": {},
     "output_type": "execute_result"
    },
    {
     "data": {
      "image/png": "[encoded data removed]",
      "text/plain": [
       "<matplotlib.figure.Figure at 0x7f825e5e42d0>"
      ]
     },
     "metadata": {},
     "output_type": "display_data"
    }
   ],
   "source": [
    "plt.figure(figsize=(12,6))\n",
    "pred_df.iloc[:,-7:].sum().sort_values(ascending=False).plot(kind='bar')"
   ]
  },
  {
   "cell_type": "code",
   "execution_count": 24,
   "metadata": {},
   "outputs": [
    {
     "data": {
      "text/plain": [
       "<matplotlib.axes._subplots.AxesSubplot at 0x7f826303cc10>"
      ]
     },
     "execution_count": 24,
     "metadata": {},
     "output_type": "execute_result"
    },
    {
     "data": {
      "image/png": "[encoded data removed]",
      "text/plain": [
       "<matplotlib.figure.Figure at 0x7f825e297210>"
      ]
     },
     "metadata": {},
     "output_type": "display_data"
    }
   ],
   "source": [
    "plt.figure(figsize=(12,6))\n",
    "pred_df.iloc[:,-7:].max(axis=1).hist(bins=100)"
   ]
  },
  {
   "cell_type": "code",
   "execution_count": 25,
   "metadata": {},
   "outputs": [
    {
     "name": "stdout",
     "output_type": "stream",
     "text": [
      "min 0\n",
      "max 487\n"
     ]
    },
    {
     "data": {
      "image/png": "[encoded data removed]",
      "text/plain": [
       "<matplotlib.figure.Figure at 0x7f825606a050>"
      ]
     },
     "metadata": {},
     "output_type": "display_data"
    }
   ],
   "source": [
    "f1 = fish1_frames_list\n",
    "print 'min', min(f1)\n",
    "print 'max', max(f1)\n",
    "plt.figure(figsize=(12,6))\n",
    "plt.hist(f1, bins=100);\n",
    "plt.title('first fish frame distribution');"
   ]
  },
  {
   "cell_type": "code",
   "execution_count": 26,
   "metadata": {},
   "outputs": [
    {
     "name": "stdout",
     "output_type": "stream",
     "text": [
      "min 1\n",
      "max 299\n"
     ]
    },
    {
     "data": {
      "image/png": "[encoded data removed]",
      "text/plain": [
       "<matplotlib.figure.Figure at 0x7f825615b590>"
      ]
     },
     "metadata": {},
     "output_type": "display_data"
    }
   ],
   "source": [
    "nf = num_fish_map.values()\n",
    "print 'min', min(nf)\n",
    "print 'max', max(nf)\n",
    "plt.figure(figsize=(12,6))\n",
    "plt.hist(nf, bins=100);\n",
    "plt.title('fish count distribution');"
   ]
  },
  {
   "cell_type": "code",
   "execution_count": 27,
   "metadata": {},
   "outputs": [
    {
     "name": "stdout",
     "output_type": "stream",
     "text": [
      "min 10\n",
      "max 1315\n"
     ]
    },
    {
     "data": {
      "image/png": "[encoded data removed]",
      "text/plain": [
       "<matplotlib.figure.Figure at 0x7f825ee1b7d0>"
      ]
     },
     "metadata": {},
     "output_type": "display_data"
    }
   ],
   "source": [
    "print 'min', min(next_fish_frames_list)\n",
    "print 'max', max(next_fish_frames_list)\n",
    "plt.figure(figsize=(12,6))\n",
    "nbins, ebins, _ = plt.hist(next_fish_frames_list, bins=100, range=[0,100]);\n",
    "plt.xlim([0,100]);\n",
    "plt.xticks(range(0,100,10));"
   ]
  },
  {
   "cell_type": "code",
   "execution_count": 28,
   "metadata": {},
   "outputs": [],
   "source": [
    "# finalize predictions and write csv file\n",
    "\n",
    "pred_df.row_id = range(pred_df.shape[0])\n",
    "\n",
    "float_format = '%.6f'\n",
    "\n",
    "pred_df.to_csv(pjoin('submissions', '{}_fish_number_{}_c.csv'.format(run, fish_number_method)), \n",
    "               float_format=float_format,\n",
    "               index=False)\n",
    "\n",
    "pred_df.drop(['cx', 'cy'], axis=1)\\\n",
    ".to_csv(pjoin('submissions', '{}_fish_number_{}.csv'.format(run, fish_number_method)), \n",
    "        float_format=float_format,\n",
    "        index=False)"
   ]
  },
  {
   "cell_type": "code",
   "execution_count": null,
   "metadata": {},
   "outputs": [],
   "source": []
  },
  {
   "cell_type": "raw",
   "metadata": {},
   "source": [
    "fish_rate_dist = np.load('data/fish_rate_distribution.npy')\n",
    "\n",
    "video_id = 'UzqA7K8OtlPKH9Ur'\n",
    "video_df = pred_df[pred_df.video_id==video_id]\n",
    "nframes = len(video_df)\n",
    "\n",
    "video_df"
   ]
  },
  {
   "cell_type": "raw",
   "metadata": {},
   "source": [
    "sys.path.insert(0, 'opencv/release/lib')\n",
    "import cv2\n",
    "print cv2.__file__\n",
    "\n",
    "cap=cv2.VideoCapture('data/test_videos/P3QkoeOjxoM6pDKb.mp4')\n",
    "assert cap.isOpened()\n",
    "i = 0\n",
    "while True:\n",
    "    ret,_=cap.read()\n",
    "    if not ret:\n",
    "        break\n",
    "    i += 1\n",
    "print i"
   ]
  },
  {
   "cell_type": "raw",
   "metadata": {},
   "source": [
    "('Sw0AgnH8BY1BDGHu', (556, 12), (555, 12))\n",
    "('tJinkrdMMZ477RGi', (426, 12), (429, 12))\n",
    "('pGd0FSJQcDH5DI8x', (876, 12), (875, 12))\n",
    "('LU2DSX6VZcIsiyaW', (1286, 12), (1285, 12))\n",
    "('ZU6XtvFk0UMrHLEL', (2267, 12), (2266, 12))\n",
    "('P3QkoeOjxoM6pDKb', (259, 12), (87, 12))\n",
    "('8jkQWJWPCtIvcnmH', (1130, 12), (1129, 12))\n",
    "('bc6hkwua3iLReunk', (1577, 12), (1576, 12))"
   ]
  }
 ],
 "metadata": {
  "kernelspec": {
   "display_name": "Python 2",
   "language": "python",
   "name": "python2"
  },
  "language_info": {
   "codemirror_mode": {
    "name": "ipython",
    "version": 2
   },
   "file_extension": ".py",
   "mimetype": "text/x-python",
   "name": "python",
   "nbconvert_exporter": "python",
   "pygments_lexer": "ipython2",
   "version": "2.7.12"
  }
 },
 "nbformat": 4,
 "nbformat_minor": 2
}
